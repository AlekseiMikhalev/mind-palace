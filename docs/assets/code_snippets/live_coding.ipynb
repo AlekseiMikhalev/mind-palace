{
 "cells": [
  {
   "cell_type": "code",
   "execution_count": 5,
   "metadata": {},
   "outputs": [
    {
     "name": "stdout",
     "output_type": "stream",
     "text": [
      "FizzBuzz\n",
      "1\n",
      "2\n",
      "Fizz\n",
      "4\n",
      "Buzz\n",
      "Fizz\n",
      "7\n",
      "8\n",
      "Fizz\n",
      "Buzz\n",
      "11\n",
      "Fizz\n",
      "13\n",
      "14\n",
      "FizzBuzz\n"
     ]
    }
   ],
   "source": [
    "# FizzBuzz\n",
    "\n",
    "def fizz_buzz(n: int):\n",
    "    modulo_list = [\n",
    "        (3,\"Fizz\"),\n",
    "        (5,\"Buzz\")\n",
    "    ]\n",
    "    for i in range(n):\n",
    "        print_string = ''\n",
    "        for mod in modulo_list:\n",
    "            if i % mod[0] == 0:\n",
    "                print_string += mod[1]\n",
    "        if print_string == '':\n",
    "            print(i)\n",
    "        else:\n",
    "            print(print_string)\n",
    "            \n",
    "fizz_buzz(16)"
   ]
  },
  {
   "cell_type": "code",
   "execution_count": 25,
   "metadata": {},
   "outputs": [
    {
     "name": "stdout",
     "output_type": "stream",
     "text": [
      "83\n"
     ]
    }
   ],
   "source": [
    "# Segments\n",
    "# BE CAREFUL NOT TO ADD +1 BECAUSE WE TAKE LENGTH OF A SEGMENT\n",
    "\n",
    "# Option 1 - segments are integers\n",
    "a, b = 15, 165\n",
    "N = [\n",
    "    [37, 68],\n",
    "    [52, 74],\n",
    "    [118, 146],\n",
    "    [35, 44],\n",
    "    [37, 65],\n",
    "    [46, 74]\n",
    "]\n",
    "\n",
    "def find_non_clossed_segments(a: int, b: int, N: list) -> int:\n",
    "    segments_list = []\n",
    "    ab = {i for i in range(a, b)}\n",
    "    segments = [set(range(segment[0], segment[1])) for segment in N]\n",
    "    for set_segment in segments:\n",
    "        ab = ab.difference(set_segment)\n",
    "    print(len(ab))\n",
    "\n",
    "find_non_clossed_segments(a, b, N)\n",
    "\n",
    "\n",
    "# Option 2 - segments are floats\n",
    "a, b = 15, 165\n",
    "N = [\n",
    "    [37, 68],\n",
    "    [52, 74],\n",
    "    [118, 146],\n",
    "    [35, 44],\n",
    "    [37, 65],\n",
    "    [46, 74]\n",
    "]\n",
    "\n",
    "def find_non_clossed_segments(a: int, b: int, N: list) -> int:\n",
    "    segments_list = []\n",
    "    ab = {i for i in range(a, b)}\n",
    "    segments = [set(range(segment[0], segment[1])) for segment in N]\n",
    "    for set_segment in segments:\n",
    "        ab = ab.difference(set_segment)\n",
    "    print(len(ab))\n",
    "\n",
    "find_non_clossed_segments(a, b, N)\n"
   ]
  },
  {
   "cell_type": "code",
   "execution_count": 26,
   "metadata": {},
   "outputs": [
    {
     "data": {
      "text/plain": [
       "120"
      ]
     },
     "execution_count": 26,
     "metadata": {},
     "output_type": "execute_result"
    }
   ],
   "source": [
    "#  Factorial - recoursive solution\n",
    "def factorial(n):\n",
    "    if n == 0:\n",
    "        return 1\n",
    "    return n * factorial(n - 1)\n",
    "\n",
    "factorial(5)"
   ]
  },
  {
   "cell_type": "code",
   "execution_count": 28,
   "metadata": {},
   "outputs": [
    {
     "data": {
      "text/plain": [
       "False"
      ]
     },
     "execution_count": 28,
     "metadata": {},
     "output_type": "execute_result"
    }
   ],
   "source": [
    "#  Binary Search\n",
    "def binary_search(a_list, n):\n",
    "    first = 0\n",
    "    last = len(a_list) - 1\n",
    "    \n",
    "    while last >= first:\n",
    "        mid = (first + last) // 2\n",
    "        if a_list[mid] == n:\n",
    "            return True\n",
    "        else:\n",
    "            if n < a_list[mid]:\n",
    "                last = mid - 1\n",
    "            else:\n",
    "                first = mid + 1\n",
    "    return False\n",
    "\n",
    "binary_search([1, 2, 3, 6, 12, 19], 22)"
   ]
  },
  {
   "cell_type": "code",
   "execution_count": 4,
   "metadata": {},
   "outputs": [
    {
     "name": "stdout",
     "output_type": "stream",
     "text": [
      "[0, 1, 1, 2, 3, 5, 8]\n"
     ]
    }
   ],
   "source": [
    "#  Fibonachi \n",
    "def fib(n):\n",
    "    a, b, = 0, 1\n",
    "    while n > 0:\n",
    "        yield a\n",
    "        a, b = b, a + b\n",
    "        n = n - 1\n",
    "\n",
    "print(list(fib(7)))"
   ]
  },
  {
   "cell_type": "code",
   "execution_count": 4,
   "metadata": {},
   "outputs": [
    {
     "name": "stdout",
     "output_type": "stream",
     "text": [
      "10,000,000,000\n"
     ]
    }
   ],
   "source": [
    "# На вход программе подаётся натуральное число. Напишите программу, которая вставляет \n",
    "# в заданное число запятые в соответствии со стандартным американским соглашением о запятых в больших числах.\n",
    "n = str(10000000000)\n",
    "n = list(n)\n",
    "for i in range(len(n) - 3, 0, -3):\n",
    "    n.insert(i, ',')\n",
    "print(''.join(n))"
   ]
  },
  {
   "cell_type": "code",
   "execution_count": 6,
   "metadata": {},
   "outputs": [
    {
     "name": "stdout",
     "output_type": "stream",
     "text": [
      "5\n"
     ]
    }
   ],
   "source": [
    "# n человек, пронумерованных числами от 1 до n, стоят в кругу. Они начинают считаться, \n",
    "# каждый k-й по счету человек выбывает из круга, после чего счет продолжается со следующего за ним человека. \n",
    "# Напишите программу, определяющую номер человека, который останется в кругу последним.\n",
    "n, k = 10, 2\n",
    "s = [i for i in range(1, n + 1)]\n",
    "while len(s) > 1:\n",
    "    for q in range(0, k-1):\n",
    "        s.append(s[q])\n",
    "    del s[:k]\n",
    "print(*s)"
   ]
  },
  {
   "cell_type": "code",
   "execution_count": 43,
   "metadata": {},
   "outputs": [
    {
     "data": {
      "text/plain": [
       "[1, 2, 4, 3, 5]"
      ]
     },
     "execution_count": 43,
     "metadata": {},
     "output_type": "execute_result"
    }
   ],
   "source": [
    "from collections import OrderedDict\n",
    "list_1 = [1, 2, 4, 4, 3, 4, 5]\n",
    "list(OrderedDict.fromkeys(list_1))"
   ]
  },
  {
   "cell_type": "code",
   "execution_count": 64,
   "metadata": {},
   "outputs": [],
   "source": [
    "users = [{'age': 30, 'name': 'Yan'}, {'age': 20, 'name': 'Sarah'}, {'age': 50, 'name': 'Alex'}]"
   ]
  },
  {
   "cell_type": "code",
   "execution_count": 67,
   "metadata": {},
   "outputs": [],
   "source": [
    "users.sort(key=lambda user: user['name'])"
   ]
  },
  {
   "cell_type": "code",
   "execution_count": 68,
   "metadata": {},
   "outputs": [
    {
     "data": {
      "text/plain": [
       "[{'age': 50, 'name': 'Alex'},\n",
       " {'age': 20, 'name': 'Sarah'},\n",
       " {'age': 30, 'name': 'Yan'}]"
      ]
     },
     "execution_count": 68,
     "metadata": {},
     "output_type": "execute_result"
    }
   ],
   "source": [
    "users"
   ]
  },
  {
   "cell_type": "code",
   "execution_count": 74,
   "metadata": {},
   "outputs": [],
   "source": [
    "class Car:\n",
    "    def __init__(self, brand, model):\n",
    "        self.brand = brand\n",
    "        self.model = model\n",
    "    def __hash__(self) -> int:\n",
    "        return hash((self.brand, self.model))\n",
    "    \n",
    "    def get(self):\n",
    "        return self.brand, self.model"
   ]
  },
  {
   "cell_type": "code",
   "execution_count": 75,
   "metadata": {},
   "outputs": [],
   "source": [
    "car = Car('BMW', '3')"
   ]
  },
  {
   "cell_type": "code",
   "execution_count": 76,
   "metadata": {},
   "outputs": [],
   "source": [
    "cars = {car: 50}"
   ]
  },
  {
   "cell_type": "code",
   "execution_count": 79,
   "metadata": {},
   "outputs": [
    {
     "data": {
      "text/plain": [
       "('BMW', '3')"
      ]
     },
     "execution_count": 79,
     "metadata": {},
     "output_type": "execute_result"
    }
   ],
   "source": [
    "car.get()"
   ]
  },
  {
   "cell_type": "code",
   "execution_count": 90,
   "metadata": {},
   "outputs": [],
   "source": [
    "import timeit\n",
    "\n",
    "l = list(range(1000000))\n",
    "s = set(l)\n",
    "d = dict.fromkeys(l)\n",
    "\n",
    "def iter_list():\n",
    "    l[1000]\n",
    "    pass\n",
    "    \n",
    "def iter_dict():\n",
    "    d[1000]\n",
    "    pass\n",
    "\n",
    "def iter_set():\n",
    "    s\n",
    "    pass"
   ]
  },
  {
   "cell_type": "code",
   "execution_count": 91,
   "metadata": {},
   "outputs": [
    {
     "data": {
      "text/plain": [
       "3.93939990317449e-05"
      ]
     },
     "execution_count": 91,
     "metadata": {},
     "output_type": "execute_result"
    }
   ],
   "source": [
    "timeit.timeit(iter_list, number=1000)"
   ]
  },
  {
   "cell_type": "code",
   "execution_count": 92,
   "metadata": {},
   "outputs": [
    {
     "data": {
      "text/plain": [
       "0.00014758799807168543"
      ]
     },
     "execution_count": 92,
     "metadata": {},
     "output_type": "execute_result"
    }
   ],
   "source": [
    "timeit.timeit(iter_dict, number=1000)"
   ]
  },
  {
   "cell_type": "code",
   "execution_count": 98,
   "metadata": {},
   "outputs": [
    {
     "data": {
      "text/plain": [
       "[1]"
      ]
     },
     "execution_count": 98,
     "metadata": {},
     "output_type": "execute_result"
    }
   ],
   "source": [
    "def some_funct(some_arg: list = []):\n",
    "    some_arg.append(1)\n",
    "    return some_arg\n",
    "\n",
    "some_funct()"
   ]
  },
  {
   "cell_type": "code",
   "execution_count": 99,
   "metadata": {},
   "outputs": [
    {
     "data": {
      "text/plain": [
       "[1, 1]"
      ]
     },
     "execution_count": 99,
     "metadata": {},
     "output_type": "execute_result"
    }
   ],
   "source": [
    "some_funct()"
   ]
  },
  {
   "cell_type": "code",
   "execution_count": 134,
   "metadata": {},
   "outputs": [],
   "source": [
    "import copy\n",
    "\n",
    "some_list = [1, [2], 3]\n",
    "copied_list = copy.copy(some_list)"
   ]
  },
  {
   "cell_type": "code",
   "execution_count": 135,
   "metadata": {},
   "outputs": [
    {
     "data": {
      "text/plain": [
       "True"
      ]
     },
     "execution_count": 135,
     "metadata": {},
     "output_type": "execute_result"
    }
   ],
   "source": [
    "some_list[1] is copied_list[1]"
   ]
  },
  {
   "cell_type": "code",
   "execution_count": 187,
   "metadata": {},
   "outputs": [],
   "source": [
    "def decorator(func):\n",
    "    def wrapper(*args, **kwargs):\n",
    "        result = func(*args, **kwargs)\n",
    "        return result\n",
    "    return wrapper"
   ]
  },
  {
   "cell_type": "code",
   "execution_count": 189,
   "metadata": {},
   "outputs": [],
   "source": [
    "@decorator\n",
    "def some_func():\n",
    "    return 'some_func'"
   ]
  },
  {
   "cell_type": "code",
   "execution_count": 191,
   "metadata": {},
   "outputs": [],
   "source": [
    "def outer_func(a=1):\n",
    "    def decorator(func):\n",
    "        def wrapper(*args, **kwargs):\n",
    "            result = func(*args, **kwargs)\n",
    "            return f'{result}: {a}: decorator'\n",
    "        return wrapper\n",
    "    return decorator"
   ]
  },
  {
   "cell_type": "code",
   "execution_count": 192,
   "metadata": {},
   "outputs": [],
   "source": [
    "@outer_func(a=123)\n",
    "def some_func():\n",
    "    return 'some_func'"
   ]
  },
  {
   "cell_type": "code",
   "execution_count": 194,
   "metadata": {},
   "outputs": [
    {
     "data": {
      "text/plain": [
       "'some_func: 123: decorator'"
      ]
     },
     "execution_count": 194,
     "metadata": {},
     "output_type": "execute_result"
    }
   ],
   "source": [
    "some_func()"
   ]
  },
  {
   "cell_type": "code",
   "execution_count": 198,
   "metadata": {},
   "outputs": [],
   "source": [
    "from abc import ABC, abstractmethod\n",
    "\n",
    "class A(ABC):\n",
    "    @abstractmethod\n",
    "    def some_method():\n",
    "        pass\n",
    "    \n",
    "class B(A):\n",
    "    def some_method(self):\n",
    "        pass\n",
    "        \n",
    "    "
   ]
  },
  {
   "cell_type": "code",
   "execution_count": 200,
   "metadata": {},
   "outputs": [],
   "source": [
    "a = B()\n",
    "a.some_method()"
   ]
  },
  {
   "cell_type": "code",
   "execution_count": 201,
   "metadata": {},
   "outputs": [],
   "source": [
    "from abc import ABCMeta\n",
    "\n",
    "class OneMeta(ABCMeta):\n",
    "    pass\n",
    "\n",
    "class Two(type):\n",
    "    def __new__(mcs, name, bases, attrs, extra_kwargs):\n",
    "        pass"
   ]
  },
  {
   "cell_type": "code",
   "execution_count": 202,
   "metadata": {},
   "outputs": [],
   "source": [
    "i = iter([1, 2, 3, 4])"
   ]
  },
  {
   "cell_type": "code",
   "execution_count": 221,
   "metadata": {},
   "outputs": [
    {
     "data": {
      "text/plain": [
       "5"
      ]
     },
     "execution_count": 221,
     "metadata": {},
     "output_type": "execute_result"
    }
   ],
   "source": [
    "# binary search algorithm\n",
    "def binary_search(l: list, item: int):\n",
    "    low = 0\n",
    "    high = len(l)-1\n",
    "    \n",
    "    while low <= high:\n",
    "        mid = (low + high) // 2\n",
    "        guess = l[mid]\n",
    "        if guess == item:\n",
    "            return mid\n",
    "        if guess > item:\n",
    "            high = mid - 1\n",
    "        else:\n",
    "            low = mid + 1\n",
    "    return None\n",
    "\n",
    "l = [1, 3, 5, 6, 8, 9, 11]\n",
    "\n",
    "binary_search(l, 9)\n",
    "            "
   ]
  },
  {
   "cell_type": "code",
   "execution_count": 222,
   "metadata": {},
   "outputs": [
    {
     "data": {
      "text/plain": [
       "29.897352853986263"
      ]
     },
     "execution_count": 222,
     "metadata": {},
     "output_type": "execute_result"
    }
   ],
   "source": [
    "import math\n",
    "math.log2(1000000000)"
   ]
  },
  {
   "cell_type": "code",
   "execution_count": 223,
   "metadata": {},
   "outputs": [
    {
     "data": {
      "text/plain": [
       "[2, 2, 5, 6, 10]"
      ]
     },
     "execution_count": 223,
     "metadata": {},
     "output_type": "execute_result"
    }
   ],
   "source": [
    "# selection sort algorithm\n",
    "def find_smallest(arr):\n",
    "    smallest = arr[0]\n",
    "    smallest_index = 0\n",
    "    for i in range(1, len(arr)):\n",
    "        if arr[i] < smallest:\n",
    "            smallest = arr[i]\n",
    "            smallest_index = i\n",
    "    return smallest_index\n",
    "\n",
    "def selection_sort(arr):\n",
    "    new_arr = []\n",
    "    for i in range(len(arr)):\n",
    "        smallest = find_smallest(arr)\n",
    "        new_arr.append(arr.pop(smallest))\n",
    "    return new_arr\n",
    "\n",
    "selection_sort([5, 2, 6, 2, 10])"
   ]
  },
  {
   "cell_type": "code",
   "execution_count": 226,
   "metadata": {},
   "outputs": [
    {
     "name": "stdout",
     "output_type": "stream",
     "text": [
      "6\n",
      "5\n",
      "4\n",
      "3\n",
      "2\n",
      "1\n",
      "0\n"
     ]
    }
   ],
   "source": [
    "# recursion\n",
    "def recursion(i):\n",
    "    print(i)\n",
    "    if i <= 0:\n",
    "        return 'stop recursion'\n",
    "    else:\n",
    "        recursion(i-1)\n",
    "        \n",
    "recursion(6)"
   ]
  },
  {
   "cell_type": "code",
   "execution_count": 228,
   "metadata": {},
   "outputs": [
    {
     "name": "stdout",
     "output_type": "stream",
     "text": [
      "hello Aleks\n",
      "how are you Aleks\n",
      "getting ready to say bye...\n",
      "ok, bye!\n"
     ]
    }
   ],
   "source": [
    "# stack\n",
    "def greet(name):\n",
    "    print(f'hello {name}')\n",
    "    greet2(name)\n",
    "    print('getting ready to say bye...')\n",
    "    bye()\n",
    "    \n",
    "def greet2(name):\n",
    "    print(f'how are you {name}')\n",
    "\n",
    "def bye():\n",
    "    print('ok, bye!')\n",
    "    \n",
    "greet('Aleks')"
   ]
  },
  {
   "cell_type": "code",
   "execution_count": 230,
   "metadata": {},
   "outputs": [
    {
     "data": {
      "text/plain": [
       "6"
      ]
     },
     "execution_count": 230,
     "metadata": {},
     "output_type": "execute_result"
    }
   ],
   "source": [
    "# factorial\n",
    "def factorial(x):\n",
    "    if x == 1:\n",
    "        return 1\n",
    "    else:\n",
    "        return x*factorial(x-1)\n",
    "    \n",
    "factorial(3)"
   ]
  },
  {
   "cell_type": "code",
   "execution_count": 252,
   "metadata": {},
   "outputs": [
    {
     "name": "stdout",
     "output_type": "stream",
     "text": [
      "[2, 4]\n",
      "[2]\n"
     ]
    },
    {
     "data": {
      "text/plain": [
       "12"
      ]
     },
     "execution_count": 252,
     "metadata": {},
     "output_type": "execute_result"
    }
   ],
   "source": [
    "def summing(l):\n",
    "    i = len(l)\n",
    "    if i == 1:\n",
    "        return l[0]\n",
    "    else:\n",
    "        x = l[i-1]\n",
    "        l = l[:i-1]\n",
    "        print(l)\n",
    "        return x + summing(l)\n",
    "\n",
    "summing([2, 4, 6])"
   ]
  },
  {
   "cell_type": "code",
   "execution_count": 7,
   "metadata": {},
   "outputs": [
    {
     "name": "stdout",
     "output_type": "stream",
     "text": [
      "alice is a mango seller\n"
     ]
    },
    {
     "data": {
      "text/plain": [
       "True"
      ]
     },
     "execution_count": 7,
     "metadata": {},
     "output_type": "execute_result"
    }
   ],
   "source": [
    "from collections import deque\n",
    "\n",
    "graph = {}\n",
    "graph['you'] = ['alice', 'bob', 'claire']\n",
    "graph['bob'] = ['anuj', 'peggy']\n",
    "graph['alice'] = ['peggy']\n",
    "graph['claire'] = ['tom', 'johny']\n",
    "graph['anuj'] = []\n",
    "graph['peggy'] = []\n",
    "graph['johny'] = [] \n",
    "\n",
    "def person_is_seller(name):\n",
    "    return name[-1] + 'm'\n",
    "\n",
    "def search(name):\n",
    "    search_queue = deque()\n",
    "    search_queue += graph[name]\n",
    "    searched = []\n",
    "    while search_queue:\n",
    "        person = search_queue.popleft()\n",
    "        if not person in searched:\n",
    "            if person_is_seller(person):\n",
    "                print(f'{person} is a mango seller')\n",
    "                return True\n",
    "            else:\n",
    "                search_queue += graph[person]\n",
    "                searched.append(person)\n",
    "    return False\n",
    "\n",
    "search('you')"
   ]
  },
  {
   "cell_type": "code",
   "execution_count": 18,
   "metadata": {},
   "outputs": [
    {
     "data": {
      "text/plain": [
       "{'a': 6, 'b': 2, 'fin': 7}"
      ]
     },
     "execution_count": 18,
     "metadata": {},
     "output_type": "execute_result"
    }
   ],
   "source": [
    "# graph with costs/weights\n",
    "graph = {}\n",
    "graph['start'] = {} # main graph\n",
    "graph['start']['a'] = 6\n",
    "graph['start']['b'] = 2\n",
    "graph['a'] = {}\n",
    "graph['a']['fin'] = 1\n",
    "graph['b'] = {}\n",
    "graph['b']['a'] = 3\n",
    "graph['b']['fin'] = 5\n",
    "graph['fin'] = {}\n",
    "\n",
    "infinity = float('inf')\n",
    "\n",
    "costs = {} # costs/weights\n",
    "costs['a'] = 6\n",
    "costs['b'] = 2\n",
    "costs['fin'] = infinity\n",
    "\n",
    "parents = {} # parents\n",
    "parents['a'] = 'start'\n",
    "parents['b'] = 'start'\n",
    "parents['fin'] = None\n",
    "\n",
    "processed = [] # list for all processed nodes\n",
    "\n",
    "def find_lowest_cost_node(costs):\n",
    "    lowest_cost = float('inf')\n",
    "    lowest_cost_node = None\n",
    "    for node in costs:\n",
    "        cost = costs[node]\n",
    "        if cost < lowest_cost and node not in processed:\n",
    "            lowest_cost = cost\n",
    "            lowest_cost_node = node\n",
    "        return lowest_cost_node\n",
    "\n",
    "node = find_lowest_cost_node(costs)\n",
    "while node is not None:\n",
    "    cost = costs[node]\n",
    "    neighbors = graph[node]\n",
    "    for n in neighbors.keys():\n",
    "        new_cost = cost + neighbors[n]\n",
    "        if costs[n] > new_cost:\n",
    "            costs[n] = new_cost\n",
    "            parents[n] = node\n",
    "    processed.append(node)\n",
    "    node = find_lowest_cost_node(costs)\n",
    "\n",
    "costs\n"
   ]
  },
  {
   "cell_type": "code",
   "execution_count": 19,
   "metadata": {},
   "outputs": [],
   "source": [
    "# greedy algorithm\n",
    "states_needed = set(['mt', 'wa', 'or', 'id', 'nv', 'ut', 'ca', 'az'])\n",
    "arr = [1, 2, 2, 3, 3, 3]"
   ]
  },
  {
   "cell_type": "code",
   "execution_count": 24,
   "metadata": {},
   "outputs": [
    {
     "name": "stdout",
     "output_type": "stream",
     "text": [
      "[1, 2, 3, 4]\n",
      "[5, 6, 7, 8]\n",
      "[9, 10, 11, 12]\n",
      "[13, 14, 15, 16]\n",
      "1\t5\t9\t13\t\n",
      "2\t6\t10\t14\t\n",
      "3\t7\t11\t15\t\n",
      "4\t8\t12\t16\t\n"
     ]
    }
   ],
   "source": [
    "# matrix transpose\n",
    "A = [[1, 2, 3, 4], [5, 6, 7, 8], [9, 10, 11, 12], [13, 14, 15, 16]]\n",
    "for n in A:\n",
    "    print(n)\n",
    "    \n",
    "for i in range(len(A)):\n",
    "    for j in range(i+1, len(A)):\n",
    "        A[i][j], A[j][i] = A[j][i], A[i][j]\n",
    "        \n",
    "for r in A:\n",
    "    for x in r:\n",
    "        print(x, end='\\t')\n",
    "    print()\n",
    "    "
   ]
  },
  {
   "cell_type": "code",
   "execution_count": 35,
   "metadata": {},
   "outputs": [
    {
     "data": {
      "text/plain": [
       "['0 * 0 = 0',\n",
       " '0 * 1 = 0',\n",
       " '0 * 2 = 0',\n",
       " '0 * 3 = 0',\n",
       " '0 * 4 = 0',\n",
       " '0 * 5 = 0',\n",
       " '0 * 6 = 0',\n",
       " '0 * 7 = 0',\n",
       " '0 * 8 = 0',\n",
       " '0 * 9 = 0',\n",
       " '1 * 0 = 0',\n",
       " '1 * 1 = 1',\n",
       " '1 * 2 = 2',\n",
       " '1 * 3 = 3',\n",
       " '1 * 4 = 4',\n",
       " '1 * 5 = 5',\n",
       " '1 * 6 = 6',\n",
       " '1 * 7 = 7',\n",
       " '1 * 8 = 8',\n",
       " '1 * 9 = 9',\n",
       " '2 * 0 = 0',\n",
       " '2 * 1 = 2',\n",
       " '2 * 2 = 4',\n",
       " '2 * 3 = 6',\n",
       " '2 * 4 = 8',\n",
       " '2 * 5 = 10',\n",
       " '2 * 6 = 12',\n",
       " '2 * 7 = 14',\n",
       " '2 * 8 = 16',\n",
       " '2 * 9 = 18']"
      ]
     },
     "execution_count": 35,
     "metadata": {},
     "output_type": "execute_result"
    }
   ],
   "source": [
    "a = [f'{i} * {j} = {i*j}'\n",
    "     for i in range(3)\n",
    "     for j in range(10)\n",
    "]\n",
    "\n",
    "a"
   ]
  },
  {
   "cell_type": "code",
   "execution_count": null,
   "metadata": {},
   "outputs": [],
   "source": []
  }
 ],
 "metadata": {
  "kernelspec": {
   "display_name": ".venv",
   "language": "python",
   "name": "python3"
  },
  "language_info": {
   "codemirror_mode": {
    "name": "ipython",
    "version": 3
   },
   "file_extension": ".py",
   "mimetype": "text/x-python",
   "name": "python",
   "nbconvert_exporter": "python",
   "pygments_lexer": "ipython3",
   "version": "3.11.0"
  },
  "orig_nbformat": 4
 },
 "nbformat": 4,
 "nbformat_minor": 2
}
